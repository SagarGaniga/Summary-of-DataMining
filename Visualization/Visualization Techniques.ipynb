{
 "cells": [
  {
   "cell_type": "markdown",
   "metadata": {},
   "source": [
    "# Graphic Displays of Basic Statistical Descriptions of Data"
   ]
  },
  {
   "cell_type": "code",
   "execution_count": 6,
   "metadata": {},
   "outputs": [
    {
     "name": "stdout",
     "output_type": "stream",
     "text": [
      "     Unnamed: 0         time  value\n",
      "0             1  1949.000000    112\n",
      "1             2  1949.083333    118\n",
      "2             3  1949.166667    132\n",
      "3             4  1949.250000    129\n",
      "4             5  1949.333333    121\n",
      "5             6  1949.416667    135\n",
      "6             7  1949.500000    148\n",
      "7             8  1949.583333    148\n",
      "8             9  1949.666667    136\n",
      "9            10  1949.750000    119\n",
      "10           11  1949.833333    104\n",
      "11           12  1949.916667    118\n",
      "12           13  1950.000000    115\n",
      "13           14  1950.083333    126\n",
      "14           15  1950.166667    141\n",
      "15           16  1950.250000    135\n",
      "16           17  1950.333333    125\n",
      "17           18  1950.416667    149\n",
      "18           19  1950.500000    170\n",
      "19           20  1950.583333    170\n",
      "20           21  1950.666667    158\n",
      "21           22  1950.750000    133\n",
      "22           23  1950.833333    114\n",
      "23           24  1950.916667    140\n",
      "24           25  1951.000000    145\n",
      "25           26  1951.083333    150\n",
      "26           27  1951.166667    178\n",
      "27           28  1951.250000    163\n",
      "28           29  1951.333333    172\n",
      "29           30  1951.416667    178\n",
      "..          ...          ...    ...\n",
      "114         115  1958.500000    491\n",
      "115         116  1958.583333    505\n",
      "116         117  1958.666667    404\n",
      "117         118  1958.750000    359\n",
      "118         119  1958.833333    310\n",
      "119         120  1958.916667    337\n",
      "120         121  1959.000000    360\n",
      "121         122  1959.083333    342\n",
      "122         123  1959.166667    406\n",
      "123         124  1959.250000    396\n",
      "124         125  1959.333333    420\n",
      "125         126  1959.416667    472\n",
      "126         127  1959.500000    548\n",
      "127         128  1959.583333    559\n",
      "128         129  1959.666667    463\n",
      "129         130  1959.750000    407\n",
      "130         131  1959.833333    362\n",
      "131         132  1959.916667    405\n",
      "132         133  1960.000000    417\n",
      "133         134  1960.083333    391\n",
      "134         135  1960.166667    419\n",
      "135         136  1960.250000    461\n",
      "136         137  1960.333333    472\n",
      "137         138  1960.416667    535\n",
      "138         139  1960.500000    622\n",
      "139         140  1960.583333    606\n",
      "140         141  1960.666667    508\n",
      "141         142  1960.750000    461\n",
      "142         143  1960.833333    390\n",
      "143         144  1960.916667    432\n",
      "\n",
      "[144 rows x 3 columns]\n"
     ]
    }
   ],
   "source": [
    "import numpy as np\n",
    "import numpy.random as random\n",
    "import pandas as pd\n",
    "import matplotlib.pyplot as plt\n",
    "%matplotlib inline\n",
    "\n",
    "url = \"https://raw.github.com/vincentarelbundock/Rdatasets/master/csv/datasets/AirPassengers.csv\"\n",
    "df = pd.read_csv(url)\n",
    "print(df)\n"
   ]
  },
  {
   "cell_type": "markdown",
   "metadata": {},
   "source": [
    "## First, lets see univariate distributions (i.e., data for one attribute)"
   ]
  },
  {
   "cell_type": "markdown",
   "metadata": {},
   "source": [
    "### 1. Quantile Plot\n"
   ]
  },
  {
   "cell_type": "markdown",
   "metadata": {},
   "source": [
    "A quantile plot is a simple and effective way to have a first look at a univariate\n",
    "data distribution. First, it displays all of the data for the given attribute. Second, it plots quantile\n",
    "information. For example, given the quantile plots of sales data for two different time periods, we can compare\n",
    "their Q 1 , median, Q 3 , and other f i values at a glance."
   ]
  },
  {
   "cell_type": "markdown",
   "metadata": {},
   "source": [
    "### 2. "
   ]
  }
 ],
 "metadata": {
  "kernelspec": {
   "display_name": "Python 3",
   "language": "python",
   "name": "python3"
  },
  "language_info": {
   "codemirror_mode": {
    "name": "ipython",
    "version": 3
   },
   "file_extension": ".py",
   "mimetype": "text/x-python",
   "name": "python",
   "nbconvert_exporter": "python",
   "pygments_lexer": "ipython3",
   "version": "3.6.2"
  }
 },
 "nbformat": 4,
 "nbformat_minor": 2
}
